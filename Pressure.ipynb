{
  "nbformat": 4,
  "nbformat_minor": 0,
  "metadata": {
    "colab": {
      "provenance": [],
      "toc_visible": true,
      "authorship_tag": "ABX9TyO+MHj6kYeI1qzUyqcs85cI",
      "include_colab_link": true
    },
    "kernelspec": {
      "name": "python3",
      "display_name": "Python 3"
    },
    "language_info": {
      "name": "python"
    }
  },
  "cells": [
    {
      "cell_type": "markdown",
      "metadata": {
        "id": "view-in-github",
        "colab_type": "text"
      },
      "source": [
        "<a href=\"https://colab.research.google.com/github/MariiaKalinina/BM/blob/main/Pressure.ipynb\" target=\"_parent\"><img src=\"https://colab.research.google.com/assets/colab-badge.svg\" alt=\"Open In Colab\"/></a>"
      ]
    },
    {
      "cell_type": "code",
      "source": [
        "import matplotlib.pyplot as plt\n",
        "import numpy as np\n",
        "from scipy.integrate import quad"
      ],
      "metadata": {
        "id": "NtR-fZoH_tjN"
      },
      "execution_count": 2,
      "outputs": []
    },
    {
      "cell_type": "code",
      "source": [
        "# Constants\n",
        "g = 9.81  # gravitational acceleration in m/s^2\n",
        "rho_sea = 1100  # density of sea water in kg/m^3\n",
        "water_depth = 1000  # water depth hw = 1 km in meters\n",
        "\n",
        "# Layer properties (example values)\n",
        "layer_thicknesses = np.array([1000, 2000, 3000])  # in meters\n",
        "rock_densities = np.array([2700, 2700, 2700])  # in kg/m^3\n",
        "porosities = np.array([0.0, 0.0, 0.0])\n",
        "\n",
        "# Calculate lithostatic pressure at depth h\n",
        "def lithostatic_pressure_onshore(h):\n",
        "    layer_depths = np.cumsum(layer_thicknesses)\n",
        "    pressure = 0\n",
        "    for thickness, density, porosity in zip(layer_thicknesses, rock_densities, porosities):\n",
        "        if h > 0:\n",
        "            effective_thickness = min(thickness, h)\n",
        "            pressure += g * density * (1 - porosity) * effective_thickness\n",
        "            h -= thickness\n",
        "        else:\n",
        "            break\n",
        "    return pressure / 1e6  # Convert Pa to MPa\n",
        "\n",
        "def lithostatic_pressure_offshore(h):\n",
        "    if h <= water_depth:\n",
        "        return g * rho_sea * h / 1e6  # Hydrostatic pressure from water\n",
        "    else:\n",
        "        pressure = g * rho_sea * water_depth  # Hydrostatic pressure from water column\n",
        "        h -= water_depth\n",
        "        return (pressure + lithostatic_pressure_onshore(h) * 1e6) / 1e6  # Add lithostatic pressure from sediments\n",
        "\n",
        "# Example usage\n",
        "depth = 4000  # depth in meters\n",
        "print(\"Onshore Lithostatic Pressure at 1500 m:\", lithostatic_pressure_onshore(depth), \"MPa\")\n",
        "print(\"Offshore Lithostatic Pressure at 1500 m:\", lithostatic_pressure_offshore(depth), \"MPa\")"
      ],
      "metadata": {
        "colab": {
          "base_uri": "https://localhost:8080/"
        },
        "id": "TkOW6ZPHg3qE",
        "outputId": "e3b76fa8-95e3-4021-bac7-9be856deaa98"
      },
      "execution_count": 6,
      "outputs": [
        {
          "output_type": "stream",
          "name": "stdout",
          "text": [
            "Onshore Lithostatic Pressure at 1500 m: 105.948 MPa\n",
            "Offshore Lithostatic Pressure at 1500 m: 90.252 MPa\n"
          ]
        }
      ]
    },
    {
      "cell_type": "code",
      "source": [
        "import matplotlib.pyplot as plt\n",
        "import numpy as np\n",
        "from scipy.integrate import quad"
      ],
      "metadata": {
        "id": "Ejhfc3pJh4IY"
      },
      "execution_count": null,
      "outputs": []
    },
    {
      "cell_type": "code",
      "source": [
        "# Constants\n",
        "g = 9.81  # gravitational acceleration in m/s^2\n",
        "rho_sea = 1100  # density of sea water in kg/m^3\n",
        "rho_w = 1040  # density of pore water in kg/m^3\n",
        "rho_shale = 2700  # density of shale in kg/m^3\n",
        "rho_sandstone = 2720  # density of sandstone in kg/m^3\n",
        "water_depth = 1000  # water depth hw = 1 km in meters"
      ],
      "metadata": {
        "id": "uu38O2CNh6G4"
      },
      "execution_count": null,
      "outputs": []
    },
    {
      "cell_type": "code",
      "source": [],
      "metadata": {
        "id": "rYCuSAES2OSD"
      },
      "execution_count": null,
      "outputs": []
    },
    {
      "cell_type": "code",
      "source": [
        "def hydrostatic_pressures(depths):\n",
        "\n",
        "    GRAVITY = 9.81\n",
        "    DENSITY_SEA_WATER = 1100  # Density of sea water (kg/m^3)\n",
        "\n",
        "    \"\"\"Calculate hydrostatic pressures for an array of depths.\"\"\"\n",
        "\n",
        "    pressures = [quad(lambda z: DENSITY_SEA_WATER * GRAVITY, 0, depth)[0] / 1e6 for depth in depths]  # Convert Pa to MPa\n",
        "    return pressures"
      ],
      "metadata": {
        "id": "2PpozfTdh8nk"
      },
      "execution_count": 7,
      "outputs": []
    },
    {
      "cell_type": "code",
      "source": [
        "def lithostatic_pressures(layer_thicknesses, rock_densities, porosities):\n",
        "\n",
        "    from scipy.integrate import quad\n",
        "    GRAVITY = 9.81  # Acceleration due to gravity (m/s^2)\n",
        "    DENSITY_SEA_WATER = 1100  # Density of sea water (kg/m^3)\n",
        "\n",
        "    \"\"\"\n",
        "    Calculate cumulative lithostatic pressures for each layer.\n",
        "\n",
        "    Parameters:\n",
        "    - layer_thicknesses: List or array of thicknesses of each layer (m)\n",
        "    - rock_densities: List or array of densities of each rock layer (kg/m^3)\n",
        "    - porosities: List or array of porosity values for each layer (fraction)\n",
        "\n",
        "    Returns:\n",
        "    - List of cumulative pressures (MPa) for each layer\n",
        "    \"\"\"\n",
        "    layer_depths = np.cumsum(layer_thicknesses)\n",
        "    print(\"Layer Depths:\", layer_depths, \"Number of Layers:\", len(layer_depths))\n",
        "\n",
        "    def lithostatic_pressure_calculation(rho_rock, porosity, upper_bound, lower_bound):\n",
        "        rho_effective = (1 - porosity) * rho_rock + porosity * DENSITY_SEA_WATER\n",
        "        print(f\"Effective Density: {rho_effective}, Porosity: {porosity}, Depth Range: {lower_bound}-{upper_bound} m\")\n",
        "        return quad(lambda z: rho_effective * GRAVITY, lower_bound, upper_bound)[0] / 1e6\n",
        "\n",
        "    previous_layer_depth = 0\n",
        "    cumulative_pressure = 0\n",
        "    pressures = []\n",
        "\n",
        "    for layer_depth, rho_rock, porosity in zip(layer_depths, rock_densities, porosities):\n",
        "        pressure = lithostatic_pressure_calculation(rho_rock, porosity, layer_depth, previous_layer_depth)\n",
        "        cumulative_pressure += pressure\n",
        "        pressures.append(cumulative_pressure)\n",
        "        previous_layer_depth = layer_depth\n",
        "\n",
        "    return pressures"
      ],
      "metadata": {
        "id": "ySJiCRqx6Qpk"
      },
      "execution_count": 15,
      "outputs": []
    },
    {
      "cell_type": "code",
      "source": [
        "# Example usage:\n",
        "# Layer properties\n",
        "layer_thicknesses = np.array([-1000, 1000, 1000, 1000, 1000, 1000])  # thickness of each layer in meters\n",
        "rock_densities = np.array([2700, 2700, 2700, 2700, 2700, 2700])  # density of each rock layer in kg/m^3\n",
        "porosities = np.array([0., 0., 0., 0., 0., 0.])  # porosity of each layer\n",
        "\n",
        "pressures_lit = lithostatic_pressures(layer_thicknesses, rock_densities, porosities)\n",
        "layer_depths = np.cumsum(layer_thicknesses/1000)\n",
        "layer_depths = np.insert(layer_depths, 0, 0)\n",
        "pressures_lit = np.insert(pressures_lit, 0, 0)\n",
        "\n",
        "print(\"Cumulative Pressures Lith:\", pressures_lit )\n"
      ],
      "metadata": {
        "colab": {
          "base_uri": "https://localhost:8080/"
        },
        "id": "4MgCM91y6lmW",
        "outputId": "0a3fb4b6-1c5f-4d2b-a929-2e5c8747b15d"
      },
      "execution_count": null,
      "outputs": [
        {
          "output_type": "stream",
          "name": "stdout",
          "text": [
            "Layer Depths: [-1000     0  1000  2000  3000  4000] Number of Layers: 6\n",
            "Effective Density: 2700.0, Porosity: 0.0, Depth Range: 0--1000 m\n",
            "Effective Density: 2700.0, Porosity: 0.0, Depth Range: -1000-0 m\n",
            "Effective Density: 2700.0, Porosity: 0.0, Depth Range: 0-1000 m\n",
            "Effective Density: 2700.0, Porosity: 0.0, Depth Range: 1000-2000 m\n",
            "Effective Density: 2700.0, Porosity: 0.0, Depth Range: 2000-3000 m\n",
            "Effective Density: 2700.0, Porosity: 0.0, Depth Range: 3000-4000 m\n",
            "Cumulative Pressures Lith: [  0.    -26.487   0.     26.487  52.974  79.461 105.948]\n"
          ]
        }
      ]
    },
    {
      "cell_type": "code",
      "source": [
        "depths = np.linspace(0, 6000, 6)  # 0 to 5 km\n",
        "pressures_hydrostatic = hydrostatic_pressures(depths)\n",
        "depths = depths/1000\n",
        "print(\"Hydrostatic pressures:\", pressures_hydrostatic)"
      ],
      "metadata": {
        "colab": {
          "base_uri": "https://localhost:8080/"
        },
        "id": "zcY4F-2-2PLP",
        "outputId": "2d1043b9-9b69-4227-97d5-58873f91e040"
      },
      "execution_count": null,
      "outputs": [
        {
          "output_type": "stream",
          "name": "stdout",
          "text": [
            "Hydrostatic pressures: [0.0, 12.9492, 25.8984, 38.8476, 51.7968, 64.746]\n"
          ]
        }
      ]
    },
    {
      "cell_type": "code",
      "source": [
        "# Offshore plot\n",
        "ax1 = plt.subplot(1, 1, 1)\n",
        "\n",
        "plt.plot(pressures_hydrostatic, depths, label='Hydrostatic Pressure')\n",
        "plt.plot(pressures_lit, layer_depths, label='Lithostatic Pressure')\n",
        "plt.title('Hydrostatic & Lithostatic Pressures')\n",
        "plt.ylabel('Depth (km)')\n",
        "plt.xlabel('Pressure (MPa)')\n",
        "# plt.xlim(0, 60)\n",
        "plt.ylim(-1, 5)\n",
        "ax1.invert_yaxis()  # Invert the y-axis for offshore plot\n",
        "plt.legend()\n",
        "plt.grid(True)\n"
      ],
      "metadata": {
        "colab": {
          "base_uri": "https://localhost:8080/",
          "height": 472
        },
        "id": "SPXeOYs28BYk",
        "outputId": "a733d8fc-b432-41d0-ae30-c6108940805d"
      },
      "execution_count": null,
      "outputs": [
        {
          "output_type": "display_data",
          "data": {
            "text/plain": [
              "<Figure size 640x480 with 1 Axes>"
            ],
            "image/png": "[encoded data removed]"
          },
          "metadata": {}
        }
      ]
    },
    {
      "cell_type": "code",
      "source": [],
      "metadata": {
        "id": "nsvoLKsG-Ui9"
      },
      "execution_count": null,
      "outputs": []
    },
    {
      "cell_type": "code",
      "source": [
        "# Example usage:\n",
        "# Layer properties\n",
        "layer_thicknesses = np.array([-1000, 1000, 1000, 1000, 1000, 1000])  # thickness of each layer in meters\n",
        "rock_densities = np.array([2700, 2700, 2700, 2700, 2700, 2700])  # density of each rock layer in kg/m^3\n",
        "porosities = np.array([0., 0., 0., 0., 0., 0.])  # porosity of each layer\n",
        "\n",
        "pressures_lit = lithostatic_pressures(layer_thicknesses, rock_densities, porosities)\n",
        "layer_depths = np.cumsum(layer_thicknesses/1000)\n",
        "layer_depths = np.insert(layer_depths, 0, 0)\n",
        "pressures_lit = np.insert(pressures_lit, 0, 0)\n",
        "\n",
        "print(\"Cumulative Pressures Lith:\", pressures_lit )\n"
      ],
      "metadata": {
        "id": "QALkTbui-WEB",
        "colab": {
          "base_uri": "https://localhost:8080/"
        },
        "outputId": "41e6093a-4d66-46fb-c453-42093422274b"
      },
      "execution_count": 9,
      "outputs": [
        {
          "output_type": "stream",
          "name": "stdout",
          "text": [
            "Layer Depths: [-1000     0  1000  2000  3000  4000] Number of Layers: 6\n",
            "Effective Density: 2700.0, Porosity: 0.0, Depth Range: 0--1000 m\n",
            "Effective Density: 2700.0, Porosity: 0.0, Depth Range: -1000-0 m\n",
            "Effective Density: 2700.0, Porosity: 0.0, Depth Range: 0-1000 m\n",
            "Effective Density: 2700.0, Porosity: 0.0, Depth Range: 1000-2000 m\n",
            "Effective Density: 2700.0, Porosity: 0.0, Depth Range: 2000-3000 m\n",
            "Effective Density: 2700.0, Porosity: 0.0, Depth Range: 3000-4000 m\n",
            "Cumulative Pressures Lith: [  0.    -26.487   0.     26.487  52.974  79.461 105.948]\n"
          ]
        }
      ]
    },
    {
      "cell_type": "code",
      "source": [
        "# depths = np.linspace(0, 6000, 6)  # 0 to 5 km\n",
        "# # pressures_hydrostatic = hydrostatic_pressures(depths)\n",
        "# # depths = depths/1000\n",
        "# # print(\"Hydrostatic pressures:\", pressures_hydrostatic)"
      ],
      "metadata": {
        "id": "iKc5zMFZ-WEB"
      },
      "execution_count": null,
      "outputs": []
    },
    {
      "cell_type": "code",
      "source": [
        "def pressure(pressure_types):\n",
        "    # Hydrostatic pressure\n",
        "    depths = np.linspace(-1000, 6000, 6)\n",
        "\n",
        "    # Lithostatic pressure\n",
        "    layer_thicknesses = np.array([-1000, 1000, 1000, 1000, 1000, 1000])  # thickness of each layer in meters\n",
        "    rock_densities = np.array([2700, 2700, 2700, 2700, 2700, 2700])  # density of each rock layer in kg/m^3\n",
        "    porosities = np.array([0., 0., 0., 0., 0., 0.])  # porosity of each layer\n",
        "\n",
        "    if 'hydrostatic' in pressure_types:\n",
        "        pressures_hydrostatic = hydrostatic_pressures(depths)\n",
        "        print(\"Hydrostatic pressures (MPa):\", pressures_hydrostatic)\n",
        "\n",
        "    if 'lithostatic' in pressure_types:\n",
        "        lith_pressures = lithostatic_pressures(layer_thicknesses, rock_densities, porosities)\n",
        "        layer_depths = np.cumsum(layer_thicknesses)\n",
        "        layer_depths = np.insert(layer_depths, 0, 0)\n",
        "        pressures_lit = np.insert(lith_pressures, 0, 0)\n",
        "        print(\"Lithostatic pressures (MPa):\", pressures_lit)\n",
        "\n",
        "\n",
        "      # Plotting\n",
        "    plt.figure(figsize=(6, 12))\n",
        "\n",
        "    ax1 = plt.subplot(1, 1, 1)\n",
        "\n",
        "    plt.plot(pressures_hydrostatic, depths, label='Hydrostatic Pressure')\n",
        "    plt.plot(pressures_lit, layer_depths, label='Lithostatic Pressure')\n",
        "    plt.title('Hydrostatic & Lithostatic Pressures')\n",
        "    plt.ylabel('Depth (km)')\n",
        "    plt.xlabel('Pressure (MPa)')\n",
        "    # plt.xlim(0, 60)\n",
        "    plt.ylim(-1, 5)\n",
        "    ax1.invert_yaxis()  # Invert the y-axis for offshore plot\n",
        "    plt.legend()\n",
        "    plt.grid(True)\n",
        "\n",
        "\n",
        "pressure(['hydrostatic', 'lithostatic'])"
      ],
      "metadata": {
        "id": "HtQGNRVf-NQr",
        "colab": {
          "base_uri": "https://localhost:8080/"
        },
        "outputId": "cd0952e8-eb24-431d-d1fd-f430d62c9264"
      },
      "execution_count": 25,
      "outputs": [
        {
          "output_type": "stream",
          "name": "stdout",
          "text": [
            "Hydrostatic pressures (MPa): [0.0, 12.9492, 25.8984, 38.8476, 51.7968, 64.746]\n",
            "Layer Depths: [-1000     0  1000  2000  3000  4000] Number of Layers: 6\n",
            "Effective Density: 2700.0, Porosity: 0.0, Depth Range: 0--1000 m\n",
            "Effective Density: 2700.0, Porosity: 0.0, Depth Range: -1000-0 m\n",
            "Effective Density: 2700.0, Porosity: 0.0, Depth Range: 0-1000 m\n",
            "Effective Density: 2700.0, Porosity: 0.0, Depth Range: 1000-2000 m\n",
            "Effective Density: 2700.0, Porosity: 0.0, Depth Range: 2000-3000 m\n",
            "Effective Density: 2700.0, Porosity: 0.0, Depth Range: 3000-4000 m\n",
            "Lithostatic pressures (MPa): [  0.    -26.487   0.     26.487  52.974  79.461 105.948]\n"
          ]
        }
      ]
    },
    {
      "cell_type": "markdown",
      "source": [
        "# 2.2.1 Basic Formulation"
      ],
      "metadata": {
        "id": "xyCm8co0Fg4g"
      }
    },
    {
      "cell_type": "markdown",
      "source": [
        "## Hydrostatic and Lithostatic Pressure, p.38"
      ],
      "metadata": {
        "id": "Lu0LRrkaJ9KY"
      }
    },
    {
      "cell_type": "code",
      "source": [
        "# Constants\n",
        "g = 9.81  # gravitational acceleration in m/s^2\n",
        "rho_sea = 1100  # density of sea water in kg/m^3\n",
        "rho_w = 1040  # density of pore water in kg/m^3\n",
        "rho_shale = 2700  # density of shale in kg/m^3\n",
        "rho_sandstone = 2720  # density of sandstone in kg/m^3\n",
        "water_depth = 1000  # water depth hw = 1 km in meters"
      ],
      "metadata": {
        "id": "oWlL8IGDEiPG"
      },
      "execution_count": 32,
      "outputs": []
    },
    {
      "cell_type": "code",
      "source": [
        "def hydrostatic_pressures(depths, rho_sea=1100):\n",
        "    \"\"\"Calculate hydrostatic pressures for an array of depths.\"\"\"\n",
        "    g = 9.81  # acceleration due to gravity in m/s^2\n",
        "    pressures = [rho_sea * g * depth / 1e6 for depth in depths]  # Convert Pa to MPa\n",
        "    return pressures\n",
        "\n",
        "def lithostatic_pressures(layer_thicknesses, rock_densities, porosities, water_depth):\n",
        "    \"\"\"Calculate lithostatic pressures for a stack of layers.\"\"\"\n",
        "    g = 9.81  # acceleration due to gravity in m/s^2\n",
        "    rho_sea = 1100\n",
        "    pressures = []\n",
        "    total_depth = 0\n",
        "    total_pressure = 0\n",
        "    for thickness, density, porosity in zip(layer_thicknesses, rock_densities, porosities):\n",
        "        effective_density = density * (1 - porosity) + rho_sea*porosity\n",
        "\n",
        "        if layer_thicknesses[0]<=water_depth:\n",
        "          pressure_increment = effective_density * g * thickness\n",
        "          total_depth += thickness\n",
        "          total_pressure += pressure_increment\n",
        "          pressures.append(total_pressure / 1e6)  # Convert Pa to MPa\n",
        "\n",
        "        else:\n",
        "          pressure_increment = effective_density * g * thickness\n",
        "          total_depth += thickness\n",
        "          water_pressure = g * rho_sea * water_depth\n",
        "          total_pressure += pressure_increment\n",
        "          total_pressure += water_pressure\n",
        "          pressures.append((water_pressure + total_pressure) / 1e6)  # Convert Pa to MPa\n",
        "\n",
        "    return pressures\n",
        "\n",
        "\n",
        "def pressure(pressure_types):\n",
        "    # Hydrostatic pressure\n",
        "    depths = np.linspace(0, 5000, 6)  # depths in meters\n",
        "\n",
        "    # Lithostatic pressure\n",
        "    layer_thicknesses = np.array([1000, 1000, 1000, 1000, 1000, 1000])  # thickness of each layer in meters\n",
        "    rock_densities = np.array([2700, 2700, 2700, 2700, 2700, 2700])  # density of each rock layer in kg/m^3\n",
        "    porosities = np.array([0., 0., 0., 0., 0., 0.])  # porosity of each layer\n",
        "\n",
        "    if 'hydrostatic' in pressure_types:\n",
        "        pressures_hydrostatic = hydrostatic_pressures(depths)\n",
        "        print(\"Hydrostatic pressures (MPa):\", pressures_hydrostatic)\n",
        "\n",
        "    if 'lithostatic' in pressure_types:\n",
        "        lith_pressures = lithostatic_pressures(layer_thicknesses, rock_densities, porosities, water_depth=0)\n",
        "        layer_depths = np.cumsum(layer_thicknesses)\n",
        "        layer_depths = np.insert(layer_depths, 0, 0)\n",
        "        pressures_lit = np.insert(lith_pressures, 0, 0)\n",
        "        print(\"Lithostatic pressures (MPa):\", pressures_lit)\n",
        "\n",
        "    # Plotting\n",
        "    plt.figure(figsize=(6, 6))\n",
        "    ax1 = plt.subplot(1, 1, 1)\n",
        "\n",
        "    if 'hydrostatic' in pressure_types:\n",
        "        plt.plot(pressures_hydrostatic, depths / 1000, label='Hydrostatic Pressure')  # Convert depths to km\n",
        "    if 'lithostatic' in pressure_types:\n",
        "        plt.plot(pressures_lit, layer_depths / 1000, label='Lithostatic Pressure')  # Convert layer depths to km\n",
        "\n",
        "    plt.title('Hydrostatic & Lithostatic Pressures')\n",
        "    plt.ylabel('Depth (km)')\n",
        "    plt.xlabel('Pressure (MPa)')\n",
        "    plt.ylim(5, -1)  # Set limits after converting depths to km\n",
        "    plt.legend()\n",
        "    plt.grid(True)\n",
        "    plt.show()\n",
        "\n",
        "pressure(['hydrostatic', 'lithostatic'])"
      ],
      "metadata": {
        "colab": {
          "base_uri": "https://localhost:8080/",
          "height": 599
        },
        "id": "jQwisERbDzHP",
        "outputId": "fccecaea-d99d-442b-c080-b6455d8ebafa"
      },
      "execution_count": 41,
      "outputs": [
        {
          "output_type": "stream",
          "name": "stdout",
          "text": [
            "Hydrostatic pressures (MPa): [0.0, 10.791, 21.582, 32.373, 43.164, 53.955]\n",
            "Lithostatic pressures (MPa): [  0.     26.487  52.974  79.461 105.948 132.435 158.922]\n"
          ]
        },
        {
          "output_type": "display_data",
          "data": {
            "text/plain": [
              "<Figure size 600x600 with 1 Axes>"
            ],
            "image/png": "[encoded data removed]"
          },
          "metadata": {}
        }
      ]
    }
  ]
}