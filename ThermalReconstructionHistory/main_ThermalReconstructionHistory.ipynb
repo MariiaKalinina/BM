{
  "nbformat": 4,
  "nbformat_minor": 0,
  "metadata": {
    "colab": {
      "provenance": []
    },
    "kernelspec": {
      "name": "python3",
      "display_name": "Python 3"
    },
    "language_info": {
      "name": "python"
    }
  },
  "cells": [
    {
      "cell_type": "code",
      "source": [
        "!pip install GitPython\n",
        "from git import Repo"
      ],
      "metadata": {
        "id": "NwF_QYmU78Ve"
      },
      "execution_count": null,
      "outputs": []
    },
    {
      "cell_type": "code",
      "source": [
        "!git clone https://github.com/MariiaKalinina/BM.git\n",
        "%cd BM/ThermalReconstructionHistory\n",
        "!ls -l\n",
        "!python thermal_history_reconstruction.py inputdata.json"
      ],
      "metadata": {
        "colab": {
          "base_uri": "https://localhost:8080/"
        },
        "id": "Utofttno8gED",
        "outputId": "1dea76db-a491-43e0-8bef-9c8e4ee5b430"
      },
      "execution_count": 10,
      "outputs": [
        {
          "output_type": "stream",
          "name": "stdout",
          "text": [
            "Cloning into 'BM'...\n",
            "remote: Enumerating objects: 1292, done.\u001b[K\n",
            "remote: Counting objects: 100% (343/343), done.\u001b[K\n",
            "remote: Compressing objects: 100% (92/92), done.\u001b[K\n",
            "remote: Total 1292 (delta 311), reused 250 (delta 250), pack-reused 949 (from 3)\u001b[K\n",
            "Receiving objects: 100% (1292/1292), 165.23 MiB | 31.27 MiB/s, done.\n",
            "Resolving deltas: 100% (715/715), done.\n",
            " BM  'BM 1'   sample_data\n"
          ]
        }
      ]
    }
  ]
}